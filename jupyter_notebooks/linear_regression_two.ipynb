{
 "cells": [
  {
   "cell_type": "code",
   "execution_count": null,
   "metadata": {},
   "outputs": [],
   "source": [
    "%matplotlib inline\n",
    "import matplotlib.pyplot as pyplot\n",
    "import numpy\n",
    "import pandas\n",
    "import seaborn\n",
    "from sklearn import metrics\n",
    "from sklearn.linear_model import LinearRegression\n",
    "from sklearn.model_selection import train_test_split"
   ]
  },
  {
   "cell_type": "code",
   "execution_count": null,
   "metadata": {},
   "outputs": [],
   "source": [
    "raw_mission_dataset = pandas.read_csv('/Users/joshfrazier/data/operations.csv')\n",
    "raw_weather_dataset = pandas.read_csv('/Users/joshfrazier/data/weather_data/weather_summary.csv')"
   ]
  },
  {
   "cell_type": "code",
   "execution_count": null,
   "metadata": {},
   "outputs": [],
   "source": [
    "raw_weather_dataset.describe()"
   ]
  },
  {
   "cell_type": "code",
   "execution_count": null,
   "metadata": {},
   "outputs": [],
   "source": [
    "raw_weather_dataset.plot(x='MinTemp', y='MaxTemp', style='o')\n",
    "pyplot.title('MinTemp vs MaxTemp')\n",
    "pyplot.xlabel('MinTemp')\n",
    "pyplot.ylabel('MaxTemp')\n",
    "pyplot.show()"
   ]
  },
  {
   "cell_type": "code",
   "execution_count": null,
   "metadata": {},
   "outputs": [],
   "source": [
    "# Check the average max temperature.\n",
    "pyplot.figure(figsize=(15, 20))\n",
    "pyplot.tight_layout()\n",
    "seaborn.distplot(raw_weather_dataset['MaxTemp'])"
   ]
  },
  {
   "cell_type": "code",
   "execution_count": null,
   "metadata": {},
   "outputs": [],
   "source": [
    "# Divide the data into \"attributes\" and \"labels\".\n",
    "# The attributes are the independent variables, while the labels are dependent variables whose values will be predicted.\n",
    "# We want to predict the MaxTemp based on the observed MinTemp.\n",
    "X = raw_weather_dataset['MinTemp'].values.reshape(-1, 1)\n",
    "y = raw_weather_dataset['MaxTemp'].values.reshape(-1, 1)"
   ]
  },
  {
   "cell_type": "code",
   "execution_count": null,
   "metadata": {},
   "outputs": [],
   "source": [
    "# Split 80% of the data to the training set, 20% to test set.\n",
    "X_train, X_test, y_train, y_test = train_test_split(X, y, test_size=0.2, random_state=0)"
   ]
  },
  {
   "cell_type": "code",
   "execution_count": null,
   "metadata": {},
   "outputs": [],
   "source": [
    "regressor = LinearRegression()\n",
    "# Train the algorithm.\n",
    "regressor.fit(X_train, y_train)"
   ]
  },
  {
   "cell_type": "code",
   "execution_count": null,
   "metadata": {},
   "outputs": [],
   "source": [
    "# The linear regression model finds the best value for the intercept and slope, which results in a line that best fits the data.\n",
    "# For every one unit of change in Min temperature, the change in the Max temperature is about 0.92%.\n",
    "print(regressor.intercept_)\n",
    "print(regressor.coef_)"
   ]
  },
  {
   "cell_type": "code",
   "execution_count": null,
   "metadata": {},
   "outputs": [],
   "source": [
    "# Make predictions based on the test data.\n",
    "y_prediction = regressor.predict(X_test)\n",
    "\n",
    "y_dataframe = pandas.DataFrame({'Actual':y_test.flatten(), 'Predicted': y_prediction.flatten()})\n",
    "y_dataframe"
   ]
  },
  {
   "cell_type": "code",
   "execution_count": null,
   "metadata": {},
   "outputs": [],
   "source": [
    "# Visualize the comparison result as a bar graph.\n",
    "df1 = y_dataframe.head(25)\n",
    "df1.plot(kind='bar', figsize=(16, 10))\n",
    "pyplot.grid(which='major', linestyle='-', linewidth='0.5', color='green')\n",
    "pyplot.grid(which='minor', linestyle=':', linewidth='0.5', color='black')\n",
    "pyplot.show()"
   ]
  },
  {
   "cell_type": "code",
   "execution_count": null,
   "metadata": {},
   "outputs": [],
   "source": [
    "# Plot the \"fitted\" line against the dataset\n",
    "pyplot.scatter(X_test, y_test, color='gray')\n",
    "pyplot.plot(X_test, y_prediction, color='red', linewidth=2)\n",
    "pyplot.show()"
   ]
  },
  {
   "cell_type": "code",
   "execution_count": null,
   "metadata": {},
   "outputs": [],
   "source": []
  }
 ],
 "metadata": {
  "kernelspec": {
   "display_name": "Python 3",
   "language": "python",
   "name": "python3"
  },
  "language_info": {
   "codemirror_mode": {
    "name": "ipython",
    "version": 3
   },
   "file_extension": ".py",
   "mimetype": "text/x-python",
   "name": "python",
   "nbconvert_exporter": "python",
   "pygments_lexer": "ipython3",
   "version": "3.7.6"
  }
 },
 "nbformat": 4,
 "nbformat_minor": 4
}
