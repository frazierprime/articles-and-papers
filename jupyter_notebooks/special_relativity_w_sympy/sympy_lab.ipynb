{
 "cells": [
  {
   "cell_type": "code",
   "execution_count": null,
   "metadata": {},
   "outputs": [],
   "source": [
    "from sympy import Eq\n",
    "from sympy import Symbol\n",
    "from sympy import symbols\n",
    "from sympy import sqrt"
   ]
  },
  {
   "cell_type": "code",
   "execution_count": null,
   "metadata": {},
   "outputs": [],
   "source": [
    "v, c = symbols('v c')\n",
    "t, T = symbols('t T')\n",
    "x = symbols('x')\n",
    "# NB: One can produce upper or lower case greek letters simply by capitalizing the argument being passed to the Symbol constructor.\n",
    "delta = Symbol(\"\\Delta\")\n",
    "gamma = Symbol(\"\\gamma\")\n",
    "time_dilation = Eq(delta*t, delta*T*gamma)\n",
    "time_dilation"
   ]
  },
  {
   "cell_type": "code",
   "execution_count": null,
   "metadata": {},
   "outputs": [],
   "source": [
    "# This is the equation for the gamma factor.\n",
    "gamma_factor_equation = 1/sqrt(1 - (v**2/c**2))\n",
    "\n",
    "gamma_factor_equation"
   ]
  },
  {
   "cell_type": "code",
   "execution_count": null,
   "metadata": {},
   "outputs": [],
   "source": [
    "# c is the constant for the speed of light in meters/second. 299,792,458 m/s\n",
    "light_speed = 299792458\n",
    "\n",
    "# relativistic velocity. This is arbitrary, and is for illustration purposes. This metric is in m/s\n",
    "relativistic_velocity = 2000000"
   ]
  },
  {
   "cell_type": "code",
   "execution_count": null,
   "metadata": {},
   "outputs": [],
   "source": [
    "# Evaluate our expression at the point where relativistic velocity equals the value set in the cell above.\n",
    "gamma = gamma_factor_equation.evalf(subs={v: relativistic_velocity, c: light_speed})\n",
    "gamma"
   ]
  },
  {
   "cell_type": "code",
   "execution_count": null,
   "metadata": {},
   "outputs": [],
   "source": [
    "import numpy as np\n",
    "from matplotlib import pyplot as plt\n",
    "from matplotlib.animation import FuncAnimation"
   ]
  },
  {
   "cell_type": "code",
   "execution_count": null,
   "metadata": {},
   "outputs": [],
   "source": [
    "loop_value = 100000\n",
    "starting_value = 289792458\n",
    "while starting_value < light_speed:\n",
    "    print(starting_value)\n",
    "    print(gamma_factor.evalf(subs={v: starting_value, c: light_speed}))\n",
    "    starting_value += loop_value\n",
    "    print(\"velocity: {}\".format(starting_value))\n"
   ]
  },
  {
   "cell_type": "code",
   "execution_count": null,
   "metadata": {},
   "outputs": [],
   "source": []
  }
 ],
 "metadata": {
  "kernelspec": {
   "display_name": "Python 3",
   "language": "python",
   "name": "python3"
  },
  "language_info": {
   "codemirror_mode": {
    "name": "ipython",
    "version": 3
   },
   "file_extension": ".py",
   "mimetype": "text/x-python",
   "name": "python",
   "nbconvert_exporter": "python",
   "pygments_lexer": "ipython3",
   "version": "3.7.6"
  }
 },
 "nbformat": 4,
 "nbformat_minor": 4
}
