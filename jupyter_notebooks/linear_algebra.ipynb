{
 "cells": [
  {
   "cell_type": "code",
   "execution_count": 10,
   "metadata": {},
   "outputs": [],
   "source": [
    "import numpy\n",
    "from numpy.linalg import matrix_power"
   ]
  },
  {
   "cell_type": "code",
   "execution_count": 12,
   "metadata": {},
   "outputs": [
    {
     "data": {
      "text/plain": [
       "matrix([[13,  8],\n",
       "        [ 8,  5]])"
      ]
     },
     "execution_count": 12,
     "metadata": {},
     "output_type": "execute_result"
    }
   ],
   "source": [
    "m = numpy.matrix([[1, 1], [1, 0]])\n",
    "\n",
    "# Multiplying this matrix by itself produces fibonacci sequences within the resulting matrices.\n",
    "# Formulae:\n",
    "# [1  1]^n = [f_n+1 f_n]\n",
    "# [1  0]     [f_n  f_n-1]  where f_n = The fibonacci number \"n\"\n",
    "#\n",
    "# For the following example, we have chosen 6 as \"n\".\n",
    "# \n",
    "# The 6th fibonacci number in the sequence is 8, so the elements of the matrix should be:\n",
    "# \n",
    "# f_6 + 1 = 13\n",
    "# f_6 = 8\n",
    "# f_6 - 1 = 5\n",
    "\n",
    "matrix_power(m, 6)"
   ]
  },
  {
   "cell_type": "code",
   "execution_count": null,
   "metadata": {},
   "outputs": [],
   "source": [
    "# That works. Let's prove it. If this theory is true for n, then it should be true for n + 1:\n",
    "# That means we expect the following output:\n",
    "# f_7 + 1 = 21\n",
    "# f_7 = 13\n",
    "# f_7 - 1 = 8\n",
    "\n",
    "matrix_power(m, 7)"
   ]
  }
 ],
 "metadata": {
  "kernelspec": {
   "display_name": "Python 3",
   "language": "python",
   "name": "python3"
  },
  "language_info": {
   "codemirror_mode": {
    "name": "ipython",
    "version": 3
   },
   "file_extension": ".py",
   "mimetype": "text/x-python",
   "name": "python",
   "nbconvert_exporter": "python",
   "pygments_lexer": "ipython3",
   "version": "3.7.5"
  }
 },
 "nbformat": 4,
 "nbformat_minor": 4
}
