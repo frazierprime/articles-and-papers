{
 "cells": [
  {
   "cell_type": "code",
   "execution_count": 11,
   "metadata": {},
   "outputs": [
    {
     "data": {
      "text/plain": [
       "['fizzbuzz', 22, 376, 92, 'buzz', 'fizz', 'fizz', 'fizz', 11, 'fizzbuzz']"
      ]
     },
     "execution_count": 11,
     "metadata": {},
     "output_type": "execute_result"
    }
   ],
   "source": [
    "# Back to basics\n",
    "# Fizz buzz - replace all values divisible by three with fizz, all those divisible by five with buzz and fizzbuzz when it is divisible by both.\n",
    "# \n",
    "\n",
    "array_of_int = [45, 22, 376, 92, 100, 27, 42, 9, 11, 15]\n",
    "for index, num in enumerate(array_of_int):\n",
    "    if num % 3 == 0 and num % 5 == 0:\n",
    "        array_of_int[index] = 'fizzbuzz'\n",
    "    elif num % 3 == 0:\n",
    "        array_of_int[index] = 'fizz'\n",
    "    elif num % 5 == 0:\n",
    "        array_of_int[index] = 'buzz'\n",
    "array_of_int"
   ]
  },
  {
   "cell_type": "code",
   "execution_count": 21,
   "metadata": {},
   "outputs": [
    {
     "name": "stdout",
     "output_type": "stream",
     "text": [
      "[4, 36, 49, 1, 225, 144, 9, 4, 400]\n",
      "[4, 36, 49, 1, 225, 144, 9, 4, 400]\n",
      "[7, 1, 15, 3]\n",
      "[7, 1, 15, 3]\n",
      "[False, False, True, True, True, False, True, False, False]\n"
     ]
    }
   ],
   "source": [
    "# List comprehension over map and filter. List comprehension is the preferred way to operate on a list and apply a uniform function to every member.\n",
    "# The idea here is that list comprehension is easier to read. I think this is debatable.\n",
    "list_to_comprehend = [2, 6, 7, 1, 15, 12, 3, 2, 20]\n",
    "square = lambda x: x**2\n",
    "\n",
    "new_list_zero = list(map(square, list_to_comprehend))\n",
    "print(new_list_zero)\n",
    "\n",
    "# Preferred, apparentyl, is list comprehension:\n",
    "new_list_one = [square(x) for x in list_to_comprehend]\n",
    "print(new_list_one)\n",
    "\n",
    "\n",
    "# This same best practice can be applied to the filter construct:\n",
    "\n",
    "def is_odd(n):\n",
    "    return bool(n % 2)\n",
    "\n",
    "new_list_two = list(filter(is_odd, list_to_comprehend))\n",
    "print(new_list_two)\n",
    "\n",
    "new_list_three = [x for x in list_to_comprehend if is_odd(x)]\n",
    "print(new_list_three)\n",
    "\n",
    "# Another useful case for list comprehension is to return an array of bool, where members are set to \"true\" if they meet some sort of condition:\n",
    "new_list_four = [is_odd(x) for x in list_to_comprehend]\n",
    "print(new_list_four)"
   ]
  },
  {
   "cell_type": "code",
   "execution_count": 22,
   "metadata": {},
   "outputs": [
    {
     "data": {
      "text/plain": [
       "[0, 2, 3, 4, 4, 6, 7, 9, 10, 200]"
      ]
     },
     "execution_count": 22,
     "metadata": {},
     "output_type": "execute_result"
    }
   ],
   "source": [
    "# This method will also sort string types, but organizing them alphabetically. \n",
    "# There is also an option argument \"reverse\", which will return the sorted list in reverse.\n",
    "sorted([2, 7, 9, 6, 4, 3, 0, 10, 200, 4])"
   ]
  },
  {
   "cell_type": "code",
   "execution_count": null,
   "metadata": {},
   "outputs": [],
   "source": []
  }
 ],
 "metadata": {
  "kernelspec": {
   "display_name": "Python 3",
   "language": "python",
   "name": "python3"
  },
  "language_info": {
   "codemirror_mode": {
    "name": "ipython",
    "version": 3
   },
   "file_extension": ".py",
   "mimetype": "text/x-python",
   "name": "python",
   "nbconvert_exporter": "python",
   "pygments_lexer": "ipython3",
   "version": "3.8.2"
  }
 },
 "nbformat": 4,
 "nbformat_minor": 4
}
