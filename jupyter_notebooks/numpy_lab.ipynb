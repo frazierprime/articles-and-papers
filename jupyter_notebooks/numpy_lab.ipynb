{
 "cells": [
  {
   "cell_type": "code",
   "execution_count": null,
   "metadata": {},
   "outputs": [],
   "source": [
    "import matplotlib\n",
    "import numpy\n",
    "import scipy\n",
    "from matplotlib import pyplot\n",
    "from numpy import random\n",
    "from scipy import stats"
   ]
  },
  {
   "cell_type": "code",
   "execution_count": null,
   "metadata": {},
   "outputs": [],
   "source": [
    "def generate_fib(num_fibs):\n",
    "    fib_members = []\n",
    "    current = 0\n",
    "    next_value = 1\n",
    "    for i in range(0, num_fibs):\n",
    "        temp = current + next_value\n",
    "        fib_members.append(temp)\n",
    "        current = next_value\n",
    "        next_value = temp\n",
    "    return fib_members\n",
    "generate_fib(12)"
   ]
  },
  {
   "cell_type": "code",
   "execution_count": null,
   "metadata": {},
   "outputs": [],
   "source": [
    "a0 = numpy.array([4, 2, 0, 1, 10, 4, 7, 22, 9, 90, 12])\n",
    "a1 = numpy.array(generate_fib(11))"
   ]
  },
  {
   "cell_type": "code",
   "execution_count": null,
   "metadata": {},
   "outputs": [],
   "source": [
    "stacked_vertically = numpy.vstack((a0, a1))\n",
    "# Each numpy array can be thought of as a row in the resulting array.\n",
    "stacked_vertically"
   ]
  },
  {
   "cell_type": "code",
   "execution_count": null,
   "metadata": {},
   "outputs": [],
   "source": [
    "stacked_horizontally = numpy.hstack((a0, a1))\n",
    "# This is effectively an append.\n",
    "stacked_horizontally"
   ]
  },
  {
   "cell_type": "code",
   "execution_count": null,
   "metadata": {},
   "outputs": [],
   "source": [
    "stacked_depth = numpy.dstack((a0, a1))\n",
    "# Each numpy array can be thought of as a column in the resulting array.\n",
    "stacked_depth"
   ]
  },
  {
   "cell_type": "code",
   "execution_count": null,
   "metadata": {},
   "outputs": [],
   "source": [
    "first_random_gen = random.default_rng()\n",
    "values_generated = first_random_gen.standard_normal(10)\n",
    "more_values = first_random_gen.standard_normal(10)\n",
    "stacked_random_values = numpy.vstack((values_generated, more_values))\n",
    "stacked_random_values"
   ]
  },
  {
   "cell_type": "code",
   "execution_count": null,
   "metadata": {},
   "outputs": [],
   "source": []
  }
 ],
 "metadata": {
  "kernelspec": {
   "display_name": "Python 3",
   "language": "python",
   "name": "python3"
  },
  "language_info": {
   "codemirror_mode": {
    "name": "ipython",
    "version": 3
   },
   "file_extension": ".py",
   "mimetype": "text/x-python",
   "name": "python",
   "nbconvert_exporter": "python",
   "pygments_lexer": "ipython3",
   "version": "3.7.5"
  }
 },
 "nbformat": 4,
 "nbformat_minor": 4
}
