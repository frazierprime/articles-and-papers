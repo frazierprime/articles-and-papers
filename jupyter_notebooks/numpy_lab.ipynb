{
 "cells": [
  {
   "cell_type": "code",
   "execution_count": null,
   "metadata": {},
   "outputs": [],
   "source": [
    "import matplotlib\n",
    "import numpy\n",
    "import scipy\n",
    "from matplotlib import pyplot\n",
    "from mpl_toolkits.mplot3d import Axes3D\n",
    "from numpy import random\n",
    "from scipy import stats"
   ]
  },
  {
   "cell_type": "code",
   "execution_count": null,
   "metadata": {},
   "outputs": [],
   "source": [
    "# Form a three-dimensional array with 36 elements.\n",
    "# This is also known as a rectangular prism.\n",
    "# Higher-dimensional arrays are more difficult to visualize, but still follow the numpy \"arrays within an array\" pattern.\n",
    "three_d_array = numpy.arange(36).reshape(3, 4, 3)\n",
    "three_d_array, three_d_array.shape"
   ]
  },
  {
   "cell_type": "code",
   "execution_count": null,
   "metadata": {},
   "outputs": [],
   "source": [
    "# Vectorization - Express operations as ocurring on entire arrays rather than their individual elements.\n",
    "\n",
    "# Consider this 1-dimensional vector of True and False, from which we want to count the nuymber of \"False to True\" transitions in the sequence.\n",
    "numpy.random.seed(444)\n",
    "x = numpy.random.choice([False, True], size=100000)\n",
    "\n",
    "count = 0\n",
    "for i, j in zip(x[:-1], x[1:]):\n",
    "    if j and not i:\n",
    "        count += 1\n",
    "print(count)"
   ]
  },
  {
   "cell_type": "code",
   "execution_count": null,
   "metadata": {},
   "outputs": [],
   "source": [
    "# In vectorized form, there's no explicit for-loop or direct reference to the individual elements.\n",
    "numpy.count_nonzero(x[:-1] < x[1:])"
   ]
  },
  {
   "cell_type": "code",
   "execution_count": null,
   "metadata": {},
   "outputs": [],
   "source": []
  },
  {
   "cell_type": "code",
   "execution_count": null,
   "metadata": {},
   "outputs": [],
   "source": [
    "def generate_fib(num_fibs):\n",
    "    fib_members = []\n",
    "    current = 0\n",
    "    next_value = 1\n",
    "    for i in range(0, num_fibs):\n",
    "        temp = current + next_value\n",
    "        fib_members.append(temp)\n",
    "        current = next_value\n",
    "        next_value = temp\n",
    "    return fib_members\n",
    "generate_fib(12)"
   ]
  },
  {
   "cell_type": "code",
   "execution_count": null,
   "metadata": {},
   "outputs": [],
   "source": [
    "a0 = numpy.array([4, 2, 0, 1, 10, 4, 7, 22, 9, 90, 12])\n",
    "a1 = numpy.array(generate_fib(11))"
   ]
  },
  {
   "cell_type": "code",
   "execution_count": null,
   "metadata": {},
   "outputs": [],
   "source": [
    "stacked_vertically = numpy.vstack((a0, a1))\n",
    "# Each numpy array can be thought of as a row in the resulting array.\n",
    "stacked_vertically"
   ]
  },
  {
   "cell_type": "code",
   "execution_count": null,
   "metadata": {},
   "outputs": [],
   "source": [
    "stacked_horizontally = numpy.hstack((a0, a1))\n",
    "# This is effectively an append.\n",
    "stacked_horizontally"
   ]
  },
  {
   "cell_type": "code",
   "execution_count": null,
   "metadata": {},
   "outputs": [],
   "source": [
    "stacked_depth = numpy.dstack((a0, a1))\n",
    "# Each numpy array can be thought of as a column in the resulting array.\n",
    "stacked_depth"
   ]
  },
  {
   "cell_type": "code",
   "execution_count": null,
   "metadata": {},
   "outputs": [],
   "source": [
    "first_random_gen = random.default_rng()\n",
    "values_generated = first_random_gen.standard_normal(10)\n",
    "more_values = first_random_gen.standard_normal(10)\n",
    "stacked_random_values = numpy.vstack((values_generated, more_values))\n",
    "stacked_random_values"
   ]
  },
  {
   "cell_type": "code",
   "execution_count": null,
   "metadata": {},
   "outputs": [],
   "source": [
    "numpy.ravel(stacked_random_values)"
   ]
  },
  {
   "cell_type": "code",
   "execution_count": null,
   "metadata": {},
   "outputs": [],
   "source": [
    "list_to_arrayify = []\n",
    "for i in range(0, 10):\n",
    "    list_to_arrayify.append(i)\n",
    "    \n",
    "exercises_array = numpy.array(list_to_arrayify)\n",
    "exercises_array\n",
    "\n",
    "# This is all well and good, BUT, the numpy canonical way appears to be:\n",
    "array = numpy.arange(10)\n",
    "array"
   ]
  },
  {
   "cell_type": "code",
   "execution_count": null,
   "metadata": {},
   "outputs": [],
   "source": [
    "# The distinction between these two appears to be the fact that the \"full\" method takes an additional\n",
    "# argument (in this case, set to True) called fill_value. Not sure what it does exactly. TODO: Read up.\n",
    "array_of_bools = numpy.full((3, 3), True, dtype=bool)\n",
    "array_of_bools\n",
    "\n",
    "alter_array_of_bools = numpy.ones((3, 3), dtype=bool)\n",
    "alter_array_of_bools"
   ]
  },
  {
   "cell_type": "code",
   "execution_count": null,
   "metadata": {},
   "outputs": [],
   "source": [
    "# Reusing an array defined above.\n",
    "odd_members = array % 2 != 0\n",
    "odd_members\n",
    "\n",
    "# Technically, this did not satisfy our requirement: We were asked to extract the odd numbers\n",
    "# not identify where they are in the array.\n",
    "alternate_method = array[odd_members]\n",
    "alternate_method\n",
    "\n",
    "# One liner:\n",
    "odd_numbers = array[array % 2 != 0]\n",
    "odd_numbers"
   ]
  },
  {
   "cell_type": "code",
   "execution_count": null,
   "metadata": {},
   "outputs": [],
   "source": [
    "# it looks like we pass in the predicate, the replacement value, and the array:\n",
    "# If we needed to change this array in place, rather than creating a new object, we could:\n",
    "# numpy.where(array % 2 == 1, -1, array)\n",
    "new_array = numpy.where(array % 2 == 1, -1, array)\n",
    "new_array"
   ]
  },
  {
   "cell_type": "code",
   "execution_count": null,
   "metadata": {},
   "outputs": [],
   "source": [
    "reshaped_array = numpy.reshape(array, (2, 5))\n",
    "reshaped_array"
   ]
  },
  {
   "cell_type": "code",
   "execution_count": null,
   "metadata": {},
   "outputs": [],
   "source": [
    "# array generation and stacking\n",
    "# Generate an array within a given range and reshape it to have 2 rows and 5 columns\n",
    "a = numpy.arange(10).reshape(2, -1)\n",
    "a\n",
    "\n",
    "# Generate an array with repetitive values. The arguments here are: value to populate (1) and number of constituents to implement (10).\n",
    "b = numpy.repeat(1, 10).reshape(2, -1)\n",
    "b\n",
    "\n",
    "# The exercise here is to stack the arrays (a and b) vertically. vstack is the first function that comes to mind:\n",
    "stack_a_b = numpy.vstack((a, b))\n",
    "print(stack_a_b)\n",
    "\n",
    "# There are alternatives, however:\n",
    "# Should play with this \"axis\" variable and see how it operates on the array.\n",
    "# \n",
    "# In general, for arrays with > 2 dimensions, hstack will stack arrays along their second axes, vstack will stack along their first\n",
    "# and concatenate allows for optional arguments giving the number of the axes along which the concatenation should happen.\n",
    "# \n",
    "# This axis variable pivots the axis of the array.\n",
    "# Axis=0:\n",
    "# [[0 1 2 3 4]\n",
    "#  [5 6 7 8 9]\n",
    "#  [1 1 1 1 1]\n",
    "#  [1 1 1 1 1]]\n",
    "# \n",
    "# Axis=1:\n",
    "# [[0 1 2 3 4 1 1 1 1 1]\n",
    "#  [5 6 7 8 9 1 1 1 1 1]]\n",
    "concatenated = numpy.concatenate([a, b], axis=0)\n",
    "print(concatenated)\n",
    "\n",
    "# This one is interesting.\n",
    "# This translates slice objects to concatenation along the first axis.\n",
    "# There are two general use cases for this method:\n",
    "# If the index expression contains comma separated arrays, then stack them along their first axis.\n",
    "# If the index expression contains slice notation or scalars then create a 1-D array with a range indicated bu the slice notation.\n",
    "# \n",
    "r = numpy.r_[a, b]\n",
    "r"
   ]
  },
  {
   "cell_type": "code",
   "execution_count": null,
   "metadata": {},
   "outputs": [],
   "source": [
    "# Stack the arrays a and b horizontally:\n",
    "horizontal_test = numpy.hstack((a, b))\n",
    "print(horizontal_test)\n",
    "\n",
    "# Alternative method is to use the concatenate function, and change the axis on which we concat:\n",
    "alt_horizontal_test = numpy.concatenate([a, b], axis=1)\n",
    "print(alt_horizontal_test)\n",
    "\n",
    "# Or another alternate:\n",
    "# This translates slice objects to concatenation along the second axis.\n",
    "# This function is short-hand for numpy.r_['-1, 2, 0', index_expression], which makes this function useful, given the operations's common occurrence.\n",
    "# In particular, arrays will be stacked along their last axis after being upgraded to at least 2-D with 1's post-pended to the shape \n",
    "# (column vectors made out of 1-D arrays.)\n",
    "# \n",
    "c_horizontal = numpy.c_[a, b]\n",
    "c_horizontal"
   ]
  },
  {
   "cell_type": "code",
   "execution_count": null,
   "metadata": {},
   "outputs": [],
   "source": [
    "def get_diff_of_array_len(array_zero, array_one):\n",
    "    if len(array_zero) > len(array_one):\n",
    "        return len(array_zero) - len(array_one)\n",
    "    elif len(array_one) > len(array_zero):\n",
    "        return len(array_one) - len(array_zero)\n",
    "    else:\n",
    "        # Lengths are the same, so there is no diff.         \n",
    "        return 0\n",
    "\n",
    "\n",
    "inequality_test_zero = numpy.arange(10)\n",
    "inequality_test_one = numpy.arange(15)\n",
    "h_stack = numpy.hstack((inequality_test_zero, inequality_test_one))\n",
    "# This works, because we are effectively appending one array onto another.\n",
    "print(h_stack)\n",
    "\n",
    "# This does NOT work, because the array dimensions for the concatenation axis do not match.\n",
    "# v_stack = numpy.vstack((inequality_test_zero, inequality_test_one))\n",
    "\n",
    "# Need to know how far the shorter array needs to be extended.\n",
    "diff = get_diff_of_array_len(inequality_test_zero, inequality_test_one)\n",
    "print(diff)\n",
    "\n",
    "# What if we really need to stack these arrays as rows in a data frame, despite the size diff?\n",
    "# We can \"null\" extend the shorter of the two arrays so that they can be stacked:\n",
    "inequality_test_zero = numpy.pad(inequality_test_zero, (0, diff), 'constant')\n",
    "\n",
    "# Now we can stack the arrays:\n",
    "v_stack = numpy.vstack((inequality_test_zero, inequality_test_one))\n",
    "v_stack"
   ]
  },
  {
   "cell_type": "code",
   "execution_count": null,
   "metadata": {},
   "outputs": [],
   "source": [
    "import numpy\n",
    "grades = numpy.array([[93, 95],\n",
    "                      [84, 100],\n",
    "                      [99, 87]])\n",
    "\n",
    "# slicing\n",
    "# This grabs the 1th index of each array in the parent array.\n",
    "print(f'0:3, 1 = {grades[0:3, 1]}')\n",
    "\n",
    "# This is equivalent to grades[1:3, 1], supposedly, although there is no third index in either of these shapes.\n",
    "# Perhaps this is a standard counting scheme. Test below.\n",
    "# This grabs the 1th index of each array including and after the 1th array in the parent array. \n",
    "print(f'1:, 1 = {grades[1:, 1]}')\n",
    "\n",
    "# Yup, this returns the same thing as the one above.\n",
    "print(f'1:3, 1 = {grades[1:3, 1]}')\n",
    "\n",
    "# Equivalent to grades[0:3, 0:1]\n",
    "# This gets all of the values at the 0th index of each array.\n",
    "print(f'0:3, 0:1 = {grades[:, :1]}')"
   ]
  },
  {
   "cell_type": "code",
   "execution_count": null,
   "metadata": {},
   "outputs": [],
   "source": []
  }
 ],
 "metadata": {
  "kernelspec": {
   "display_name": "venv",
   "language": "python",
   "name": "venv"
  },
  "language_info": {
   "codemirror_mode": {
    "name": "ipython",
    "version": 3
   },
   "file_extension": ".py",
   "mimetype": "text/x-python",
   "name": "python",
   "nbconvert_exporter": "python",
   "pygments_lexer": "ipython3",
   "version": "3.7.6"
  }
 },
 "nbformat": 4,
 "nbformat_minor": 4
}
