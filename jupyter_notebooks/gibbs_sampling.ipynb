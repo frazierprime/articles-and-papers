{
 "cells": [
  {
   "cell_type": "code",
   "execution_count": null,
   "metadata": {},
   "outputs": [],
   "source": [
    "%matplotlib inline\n",
    "import numpy\n",
    "import pandas\n",
    "import seaborn\n",
    "from matplotlib import pyplot\n",
    "pyplot.rcParams['figure.figsize'] = (10, 5)"
   ]
  },
  {
   "cell_type": "code",
   "execution_count": null,
   "metadata": {},
   "outputs": [],
   "source": [
    "\"\"\"\n",
    "Notes and formulae for this can be found in evernote.\n",
    "\n",
    "TODO: Annotate the functions here.\n",
    "\n",
    "\n",
    "Run updated for beta_0.\n",
    "\"\"\"\n",
    "def sample_beta_0(x, y, beta_1, mu_0, tau_0, tau):\n",
    "    assert len(x) == len(y)\n",
    "    N = len(y)\n",
    "    precision = tau_0 + tau * N\n",
    "    mean = tau_0 * mu_0 + tau * numpy.sum(y - beta_1 * x)\n",
    "    mean /= precision\n",
    "    return numpy.random.normal(mean, 1 / numpy.sqrt(precision))"
   ]
  },
  {
   "cell_type": "code",
   "execution_count": null,
   "metadata": {},
   "outputs": [],
   "source": [
    "def sample_beta_1(x, y, beta_0, mu_1, tau, tau_1):\n",
    "    assert len(x) == len(y)\n",
    "    N = len(y)\n",
    "    precision = tau_1 + tau * numpy.sum(x * x)\n",
    "    mean =  tau_1 * mu_1 + tau * numpy.sum((y - beta_0) * x)\n",
    "    mean /= precision\n",
    "    return numpy.random.normal(mean, 1 / numpy.sqrt(precision))"
   ]
  },
  {
   "cell_type": "code",
   "execution_count": null,
   "metadata": {},
   "outputs": [],
   "source": [
    "def sample_tau(x, y, beta_0, beta_1, alpha, beta):\n",
    "    N = len(y)\n",
    "    \n",
    "    # The tutorial we followed for deriving these formulae had this calculation wrong in code. \n",
    "    # The calculation of alpha_new was \"alpha + N / 2\". \n",
    "    # Looks like the author may have neglected the order of operations. \n",
    "    alpha_new = (alpha + N) / 2\n",
    "    residual = y - beta_0 - beta_1 * x\n",
    "    beta_new = beta + numpy.sum(residual * residual) / 2\n",
    "    return numpy.random.gamma(alpha_new, 1 / beta_new)"
   ]
  },
  {
   "cell_type": "code",
   "execution_count": null,
   "metadata": {},
   "outputs": [],
   "source": [
    "beta_0_true = -1\n",
    "beta_1_true = 2\n",
    "tau_true = 1\n",
    "N = 50\n",
    "x = numpy.random.uniform(low=0, high=4, size=N)\n",
    "y = numpy.random.normal(beta_0_true + beta_1_true * x, 1 / numpy.sqrt(tau_true))\n",
    "\n",
    "synth_plot = pyplot.plot(x, y, \"o\")\n",
    "pyplot.xlabel(\"x\")\n",
    "pyplot.ylabel(\"y\")"
   ]
  },
  {
   "cell_type": "code",
   "execution_count": null,
   "metadata": {},
   "outputs": [],
   "source": [
    "# Specify initial values\n",
    "init_values = {\n",
    "    \"beta_0\" : 0,\n",
    "    \"beta_1\" : 0,\n",
    "    \"tau\" : 2}\n",
    "\n",
    "# Specify hyper-parameters\n",
    "hyper_params = {\n",
    "    \"mu_0\" : 0,\n",
    "    \"tau_0\" : 1,\n",
    "    \"mu_1\" : 0,\n",
    "    \"tau_1\" : 1,\n",
    "    \"alpha\" : 2,\n",
    "    \"beta\" : 1}"
   ]
  },
  {
   "cell_type": "code",
   "execution_count": null,
   "metadata": {},
   "outputs": [],
   "source": [
    "\"\"\"\n",
    "TODO: Annotate this algorithm with the Gibbs sampling steps (found in evernote).\n",
    "\"\"\"\n",
    "def gibbs_sampler(x, y, iterations, init_values, hyper_params):\n",
    "    assert len(x) == len(y)\n",
    "    beta_0 = init_values[\"beta_0\"]\n",
    "    beta_1 = init_values[\"beta_1\"]\n",
    "    tau = init_values[\"tau\"]\n",
    "    \n",
    "    # trace to store values of beta_0, beta_1, tau.     \n",
    "    tracer = numpy.zeros((iterations, 3))\n",
    "    \n",
    "    # If this breaks, it is likely an issue with the order of parameters to one of the functions.     \n",
    "    for it in range(iterations):\n",
    "        # Method signature: sample_beta_0(x, y, beta_1, mu_0, tau_0, tau)\n",
    "        beta_0 = sample_beta_0(x, y, beta_1, hyper_params[\"mu_0\"], hyper_params[\"tau_0\"], tau)\n",
    "        # Method signature: (x, y, beta_0, mu_1, tau, tau_1)\n",
    "        beta_1 = sample_beta_1(x, y, beta_0, hyper_params[\"mu_1\"], tau, hyper_params[\"tau_1\"])\n",
    "        # Method signature: (x, y, beta_0, beta_1, alpha, beta)\n",
    "        tau = sample_tau(x, y, beta_0, beta_1, hyper_params[\"alpha\"], hyper_params[\"beta\"])\n",
    "        tracer[it,:] = numpy.array((beta_0, beta_1, tau))\n",
    "    \n",
    "    tracer = pandas.DataFrame(tracer)\n",
    "    tracer.columns = [\"beta_0\", \"beta_1\", \"tau\"]\n",
    "    return tracer"
   ]
  },
  {
   "cell_type": "code",
   "execution_count": null,
   "metadata": {},
   "outputs": [],
   "source": [
    "iterations = 1000\n",
    "trace = gibbs_sampler(x, y, iterations, init_values, hyper_params)"
   ]
  },
  {
   "cell_type": "code",
   "execution_count": null,
   "metadata": {},
   "outputs": [],
   "source": [
    "tracer_plot = trace.plot()\n",
    "tracer_plot.set_xlabel(\"Iteration\")\n",
    "tracer_plot.set_ylabel(\"Parameter value\")"
   ]
  },
  {
   "cell_type": "code",
   "execution_count": null,
   "metadata": {},
   "outputs": [],
   "source": []
  },
  {
   "cell_type": "code",
   "execution_count": null,
   "metadata": {},
   "outputs": [],
   "source": []
  }
 ],
 "metadata": {
  "kernelspec": {
   "display_name": "venv",
   "language": "python",
   "name": "venv"
  },
  "language_info": {
   "codemirror_mode": {
    "name": "ipython",
    "version": 3
   },
   "file_extension": ".py",
   "mimetype": "text/x-python",
   "name": "python",
   "nbconvert_exporter": "python",
   "pygments_lexer": "ipython3",
   "version": "3.8.2"
  }
 },
 "nbformat": 4,
 "nbformat_minor": 4
}
